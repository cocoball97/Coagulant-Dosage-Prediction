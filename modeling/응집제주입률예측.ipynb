{
 "cells": [
  {
   "cell_type": "code",
   "execution_count": 1,
   "metadata": {},
   "outputs": [],
   "source": [
    "import pandas as pd\n",
    "from sklearn.ensemble import StackingRegressor, ExtraTreesRegressor\n",
    "from sklearn.linear_model import LinearRegression\n",
    "from sklearn.ensemble import RandomForestRegressor\n",
    "import lightgbm as lgb\n",
    "import joblib\n",
    "import warnings\n",
    "warnings.filterwarnings('ignore')"
   ]
  },
  {
   "cell_type": "code",
   "execution_count": 9,
   "metadata": {},
   "outputs": [],
   "source": [
    "# Data leakage is impossible\n",
    "df=pd.read_excel('data.xlsx')"
   ]
  },
  {
   "cell_type": "code",
   "execution_count": 11,
   "metadata": {},
   "outputs": [],
   "source": [
    "# Predictive modeling of coagulants in medium turbidity communities.  다시해야할듯\n",
    "def reg_clust_0():\n",
    "  df0=df[df['Cluster']==0]\n",
    "  df0=df0.reset_index(drop=True)\n",
    "  x=df0[['탁도','pH','수온','전기전도도','알칼리도']]\n",
    "  y=df0['PACS 투입률']\n",
    "  et_model = ExtraTreesRegressor(max_depth= 30,\n",
    "                               min_samples_leaf= 1,\n",
    "                               min_samples_split= 5,\n",
    "                               n_estimators=400, random_state=6666)\n",
    "  rf_model = RandomForestRegressor(max_depth= 30,\n",
    "                                 min_samples_leaf= 1,\n",
    "                                 min_samples_split= 2,\n",
    "                                 n_estimators=200, random_state=6666)\n",
    "  lgbm_model = lgb.LGBMRegressor(learning_rate= 0.1,\n",
    "                               max_depth= 20,\n",
    "                               min_child_samples= 10,\n",
    "                               n_estimators= 600,\n",
    "                               num_leaves= 62, random_state=6666,verbose=-1)\n",
    "  lr=LinearRegression()\n",
    "  estimators = [\n",
    "    ('rf', rf_model),\n",
    "    ('lgbm', lgbm_model),\n",
    "    ('extra', et_model),\n",
    "    ('lr', lr)\n",
    "  ]\n",
    "  stacking_regressor = StackingRegressor(\n",
    "      estimators=estimators,\n",
    "      final_estimator=lr)\n",
    "\n",
    "  model=stacking_regressor\n",
    "  model.fit(x,y)\n",
    "  joblib.dump(model, '../Docker_airflow_Kafka/models/reg_clust_0.pkl')"
   ]
  },
  {
   "cell_type": "code",
   "execution_count": 12,
   "metadata": {},
   "outputs": [],
   "source": [
    "# Flocculant prediction modeling for low-turbidity, high-flocculant populations\n",
    "def reg_clust_1():\n",
    "  df1=df[df['Cluster']==1]\n",
    "  df1=df1.reset_index(drop=True)\n",
    "  x=df1[['탁도','pH','수온','전기전도도','알칼리도']]\n",
    "  y=df1['PACS 투입률']\n",
    "  et_model = ExtraTreesRegressor(max_depth=30,n_estimators=1000, random_state=6666)\n",
    "  lgbm_model = lgb.LGBMRegressor(max_depth=30,n_estimators=1000,learning_rate=0.1, random_state=6666,verbose=-1)\n",
    "  lr=LinearRegression()\n",
    "  estimators = [\n",
    "  ('lgbm', lgbm_model),\n",
    "  ('extra', et_model),\n",
    "  ('lr', lr)\n",
    "  ]\n",
    "  stacking_regressor = StackingRegressor(\n",
    "    estimators=estimators,\n",
    "    final_estimator=lr)\n",
    "  model=stacking_regressor\n",
    "  model.fit(x,y)\n",
    "  joblib.dump(model, '../Docker_airflow_Kafka/models/reg_clust_1.pkl')"
   ]
  },
  {
   "cell_type": "code",
   "execution_count": 13,
   "metadata": {},
   "outputs": [],
   "source": [
    "# Flocculant prediction modeling for low-turbidity, low-flocculant populations\n",
    "def reg_clust_2():\n",
    "  df2=df[df['Cluster']==2]\n",
    "  df2=df2.reset_index(drop=True)\n",
    "  x=df2[['탁도','pH','수온','전기전도도','알칼리도']]\n",
    "  y=df2['PACS 투입률']\n",
    "  et_model = ExtraTreesRegressor(max_depth= 20,\n",
    "                               min_samples_leaf= 1,\n",
    "                               min_samples_split= 5,\n",
    "                               n_estimators=300, random_state=6666)\n",
    "  rf_model = RandomForestRegressor(max_depth= 30,\n",
    "                                 min_samples_leaf= 1,\n",
    "                                 min_samples_split= 2,\n",
    "                                 n_estimators=500, random_state=6666)\n",
    "  lr=LinearRegression()\n",
    "  estimators = [\n",
    "    ('rf', rf_model),\n",
    "    ('extra', et_model),\n",
    "    ('lr',lr)\n",
    "  ]\n",
    "  stacking_regressor = StackingRegressor(\n",
    "      estimators=estimators,\n",
    "      final_estimator=lr)\n",
    "  model=stacking_regressor\n",
    "  model.fit(x,y)\n",
    "  joblib.dump(model, '../Docker_airflow_Kafka/models/reg_clust_2.pkl')"
   ]
  },
  {
   "cell_type": "code",
   "execution_count": 14,
   "metadata": {},
   "outputs": [],
   "source": [
    "# Predictive modeling of coagulants in high turbidity communities.\n",
    "def reg_clust_3():\n",
    "  df3=df[df['Cluster']==3]\n",
    "  df3=df3.reset_index(drop=True)\n",
    "  x=df3[['탁도','pH','수온','전기전도도','알칼리도']]\n",
    "  y=df3['PACS 투입률']\n",
    "  et_model = ExtraTreesRegressor(max_depth= None,\n",
    "                               min_samples_leaf= 1,\n",
    "                               min_samples_split= 2,\n",
    "                               n_estimators=150, random_state=6666)\n",
    "  rf_model = RandomForestRegressor(max_depth= None,\n",
    "                                 min_samples_leaf= 1,\n",
    "                                 min_samples_split= 2,\n",
    "                                 n_estimators=200, random_state=6666)\n",
    "  lgbm_model = lgb.LGBMRegressor(learning_rate= 0.1,\n",
    "                               max_depth= 20,\n",
    "                               min_child_samples= 10,\n",
    "                               n_estimators= 500,\n",
    "                               num_leaves= 80, random_state=6666,verbose=-1)\n",
    "  lr=LinearRegression()\n",
    "  estimators = [\n",
    "    ('rf', rf_model),\n",
    "    ('lgbm', lgbm_model),\n",
    "    ('extra', et_model),\n",
    "    ('lr',lr)\n",
    "  ]\n",
    "  \n",
    "  stacking_regressor = StackingRegressor(\n",
    "      estimators=estimators,\n",
    "      final_estimator=lr)\n",
    "  model=stacking_regressor\n",
    "  model.fit(x,y)\n",
    "  joblib.dump(model, '../Docker_airflow_Kafka/models/reg_clust_3.pkl')"
   ]
  },
  {
   "cell_type": "code",
   "execution_count": 10,
   "metadata": {},
   "outputs": [],
   "source": [
    "df_00=df[df['Cluster']==0]\n",
    "df_00=df_00.reset_index(drop=True)\n",
    "x=df_00[['탁도','pH','수온','전기전도도','알칼리도']]\n",
    "y=df_00['PACS 투입률']"
   ]
  },
  {
   "cell_type": "code",
   "execution_count": 11,
   "metadata": {},
   "outputs": [],
   "source": [
    "# Predictive modeling of coagulants in high turbidity communities.\n",
    "def reg_clust_33():\n",
    "  \n",
    "  rf_model = RandomForestRegressor(max_depth= 5)\n",
    "\n",
    "  model=rf_model\n",
    "  model.fit(x,y)\n",
    "  # joblib.dump(model, '../Docker_airflow_Kafka/models/reg_clust_3.pkl')\n",
    "\n",
    "reg_clust_33()\n"
   ]
  },
  {
   "cell_type": "code",
   "execution_count": 15,
   "metadata": {},
   "outputs": [],
   "source": [
    "reg_clust_0()\n",
    "reg_clust_1()\n",
    "reg_clust_2()\n",
    "reg_clust_3()"
   ]
  },
  {
   "cell_type": "code",
   "execution_count": null,
   "metadata": {},
   "outputs": [],
   "source": []
  },
  {
   "cell_type": "code",
   "execution_count": null,
   "metadata": {},
   "outputs": [],
   "source": [
    "# Data leakage is impossible\n",
    "df=pd.read_excel('data.xlsx')"
   ]
  },
  {
   "cell_type": "code",
   "execution_count": 3,
   "metadata": {},
   "outputs": [
    {
     "name": "stdout",
     "output_type": "stream",
     "text": [
      "Root Mean Squared Error (RMSE) on test data = 1.5058752953138166\n"
     ]
    }
   ],
   "source": [
    "import pandas as pd\n",
    "from sklearn.ensemble import RandomForestRegressor, GradientBoostingRegressor, StackingRegressor\n",
    "from sklearn.linear_model import LinearRegression\n",
    "from sklearn.model_selection import train_test_split\n",
    "from sklearn.metrics import mean_squared_error\n",
    "import numpy as np\n",
    "\n",
    "# 데이터 로드 및 준비 (예시 데이터셋 사용)\n",
    "df=pd.read_excel('data.xlsx')\n",
    "df_cluster_0 = df[df['Cluster'] == 0]\n",
    "\n",
    "# 클러스터가 0인 데이터 필터링 및 입력 변수와 타겟 변수 분리\n",
    "X = df_cluster_0[[\"탁도\", \"pH\", \"수온\", \"전기전도도\", \"알칼리도\"]]\n",
    "y = df_cluster_0[\"PACS 투입률\"]\n",
    "\n",
    "# 학습 데이터와 테스트 데이터 분할\n",
    "X_train, X_test, y_train, y_test = train_test_split(X, y, test_size=0.2, random_state=42)\n",
    "\n",
    "# 기본 모델 정의\n",
    "estimators = [\n",
    "    ('rf', RandomForestRegressor()),\n",
    "    ('gbt', GradientBoostingRegressor()),\n",
    "    ('lr', LinearRegression())\n",
    "]\n",
    "\n",
    "# 스태킹 모델 정의: 최종 메타 모델로 LinearRegression 사용\n",
    "stacking_regressor = StackingRegressor(\n",
    "    estimators=estimators,\n",
    "    final_estimator=LinearRegression()\n",
    ")\n",
    "\n",
    "# 스태킹 모델 학습\n",
    "stacking_regressor.fit(X_train, y_train)\n",
    "\n",
    "# 스태킹 모델을 사용한 예측\n",
    "y_pred = stacking_regressor.predict(X_test)\n",
    "\n",
    "# 모델 평가: RMSE 계산\n",
    "rmse = np.sqrt(mean_squared_error(y_test, y_pred))\n",
    "print(f\"Root Mean Squared Error (RMSE) on test data = {rmse}\")\n"
   ]
  },
  {
   "cell_type": "code",
   "execution_count": null,
   "metadata": {},
   "outputs": [],
   "source": []
  }
 ],
 "metadata": {
  "kernelspec": {
   "display_name": "py3_10_4",
   "language": "python",
   "name": "python3"
  },
  "language_info": {
   "codemirror_mode": {
    "name": "ipython",
    "version": 3
   },
   "file_extension": ".py",
   "mimetype": "text/x-python",
   "name": "python",
   "nbconvert_exporter": "python",
   "pygments_lexer": "ipython3",
   "version": "3.8.18"
  }
 },
 "nbformat": 4,
 "nbformat_minor": 2
}
