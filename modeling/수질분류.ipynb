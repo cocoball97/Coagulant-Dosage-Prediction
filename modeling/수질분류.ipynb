{
 "cells": [
  {
   "cell_type": "code",
   "execution_count": 1,
   "metadata": {},
   "outputs": [],
   "source": [
    "import pandas as pd\n",
    "from sklearn.ensemble import RandomForestClassifier, StackingClassifier,ExtraTreesClassifier\n",
    "from sklearn.linear_model import LogisticRegression\n",
    "from lightgbm import LGBMClassifier\n",
    "import joblib\n",
    "import warnings\n",
    "warnings.filterwarnings('ignore')"
   ]
  },
  {
   "cell_type": "code",
   "execution_count": 3,
   "metadata": {},
   "outputs": [],
   "source": [
    "# Data leakage is impossible\n",
    "df=pd.read_excel('data.xlsx')"
   ]
  },
  {
   "cell_type": "code",
   "execution_count": 4,
   "metadata": {},
   "outputs": [],
   "source": [
    "# Classification modeling for predictive modeling by water quality group\n",
    "def classify_model():\n",
    "  x=df[['탁도','pH','수온','전기전도도','알칼리도']]\n",
    "  y=df['Cluster']\n",
    "  rf_model=RandomForestClassifier(random_state=6666)\n",
    "  et_model=ExtraTreesClassifier(random_state=6666)\n",
    "  lgb_model=LGBMClassifier(random_state=6666,verbose=-1)\n",
    "  lr=LogisticRegression()\n",
    "  estimators = [('rf', rf_model),\n",
    "            ('lgbm', lgb_model),\n",
    "            ('extra', et_model)]\n",
    "  stacking_classifier = StackingClassifier(\n",
    "      estimators=estimators,\n",
    "      final_estimator=lr)\n",
    "  model=stacking_classifier\n",
    "  model.fit(x,y)\n",
    "  joblib.dump(model, '../../Docker_airflow_Kafka/models/classify_model.pkl')"
   ]
  },
  {
   "cell_type": "code",
   "execution_count": null,
   "metadata": {},
   "outputs": [],
   "source": [
    "classify_model()"
   ]
  }
 ],
 "metadata": {
  "kernelspec": {
   "display_name": "py3_10_4",
   "language": "python",
   "name": "python3"
  },
  "language_info": {
   "codemirror_mode": {
    "name": "ipython",
    "version": 3
   },
   "file_extension": ".py",
   "mimetype": "text/x-python",
   "name": "python",
   "nbconvert_exporter": "python",
   "pygments_lexer": "ipython3",
   "version": "3.8.18"
  }
 },
 "nbformat": 4,
 "nbformat_minor": 2
}
